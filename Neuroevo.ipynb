{
 "cells": [
  {
   "cell_type": "code",
   "execution_count": 1,
   "metadata": {},
   "outputs": [
    {
     "name": "stdout",
     "output_type": "stream",
     "text": [
      "Successfully imported mkl...\n"
     ]
    }
   ],
   "source": [
    "%reload_ext autoreload\n",
    "%autoreload 2\n",
    "%matplotlib inline\n",
    "\n",
    "from torch.autograd import Variable\n",
    "import torch.nn.functional as F\n",
    "\n",
    "import gym\n",
    "import cv2\n",
    "import copy\n",
    "from collections import defaultdict\n",
    "import matplotlib.pyplot as plt\n",
    "import seaborn as sb\n",
    "import numpy as np\n",
    "from rq import Queue\n",
    "from redis import Redis\n",
    "import PIL\n",
    "from tqdm import tqdm\n",
    "\n",
    "from IPython.display import HTML, display\n",
    "import imageio\n",
    "import random\n",
    "import sys\n",
    "import os\n",
    "import time\n",
    "import pickle\n",
    "module_path = os.path.abspath(os.path.join('.'))\n",
    "if module_path not in sys.path:\n",
    "    sys.path.append(module_path)\n",
    "    \n",
    "from ga_model import *\n",
    "\n",
    "def to_np(x):\n",
    "    return x.data.cpu().numpy()"
   ]
  },
  {
   "cell_type": "markdown",
   "metadata": {},
   "source": [
    "# Gym stuff"
   ]
  },
  {
   "cell_type": "code",
   "execution_count": 2,
   "metadata": {},
   "outputs": [],
   "source": [
    "env = gym.make('SpaceInvadersDeterministic-v4')"
   ]
  },
  {
   "cell_type": "code",
   "execution_count": 3,
   "metadata": {},
   "outputs": [
    {
     "name": "stdout",
     "output_type": "stream",
     "text": [
      "Discrete(6)\n"
     ]
    },
    {
     "data": {
      "image/png": "[encoded data removed]",
      "text/plain": [
       "<Figure size 432x288 with 1 Axes>"
      ]
     },
     "metadata": {
      "needs_background": "light"
     },
     "output_type": "display_data"
    },
    {
     "data": {
      "image/png": "[encoded data removed]",
      "text/plain": [
       "<Figure size 432x288 with 1 Axes>"
      ]
     },
     "metadata": {
      "needs_background": "light"
     },
     "output_type": "display_data"
    }
   ],
   "source": [
    "def show_img(im, figsize=None, ax=None):\n",
    "    if not ax: fig,ax = plt.subplots(figsize=figsize)\n",
    "    if len(im.shape) == 2:\n",
    "        ax.imshow(im, cmap='gray')\n",
    "    else:\n",
    "        ax.imshow(im)\n",
    "    ax.get_xaxis().set_visible(False)\n",
    "    ax.get_yaxis().set_visible(False)\n",
    "    return ax\n",
    "\n",
    "def render(env, converted=False):\n",
    "    state = env.render(mode='rgb_array')\n",
    "    if converted:\n",
    "        state = convert_state(state)\n",
    "    plt.show(show_img(state))\n",
    "    \n",
    "reset(env)\n",
    "print(env.action_space)\n",
    "render(env)\n",
    "render(env, converted=True)"
   ]
  },
  {
   "cell_type": "markdown",
   "metadata": {},
   "source": [
    "# Model"
   ]
  },
  {
   "cell_type": "markdown",
   "metadata": {},
   "source": [
    "> We use the larger DQN architecture from Mnih et al. (2015) consisting of 3 convolutional layers with 32, 64, and 64 channels followed by a hidden layer\n",
    "with 512 units. The convolutional layers use 8 × 8, 4 × 4, and 3 × 3 filters with strides of 4, 2, and 1, respectively. All hidden layers were followed by a rectifier nonlinearity (ReLU). The network contains over 4M parameters."
   ]
  },
  {
   "cell_type": "code",
   "execution_count": 4,
   "metadata": {},
   "outputs": [],
   "source": [
    "states = []\n",
    "for _ in range(4):\n",
    "    states.append(step(env, env.action_space.sample())[0])"
   ]
  },
  {
   "cell_type": "code",
   "execution_count": 5,
   "metadata": {},
   "outputs": [
    {
     "name": "stdout",
     "output_type": "stream",
     "text": [
      "first try\n",
      "[[-0.02308975 -0.03861909 -0.14025621  0.21452276  0.05158421  0.18094218\n",
      "   0.21188816 -0.29331958  0.13954404 -0.32104513  0.09002847 -0.42095155\n",
      "   0.21079096  0.26223585  0.20506532  0.07804199  0.09951627 -0.1088325 ]]\n",
      "didn't change anything, should be the same\n",
      "[[-0.02308975 -0.03861909 -0.14025621  0.21452276  0.05158421  0.18094218\n",
      "   0.21188816 -0.29331958  0.13954404 -0.32104513  0.09002847 -0.42095155\n",
      "   0.21079096  0.26223585  0.20506532  0.07804199  0.09951627 -0.1088325 ]]\n",
      "after evolution, should be different but only slightly\n",
      "[[ 0.02675315  0.01215683 -0.14812325  0.20725995  0.05921957  0.1261946\n",
      "   0.18077664 -0.25702322  0.1104738  -0.29001442  0.10449287 -0.39175156\n",
      "   0.27757353  0.25061342  0.20551437  0.07667654  0.13549982 -0.10116501]]\n",
      "copied model, should be the same\n",
      "[[ 0.02675315  0.01215683 -0.14812325  0.20725995  0.05921957  0.1261946\n",
      "   0.18077664 -0.25702322  0.1104738  -0.29001442  0.10449287 -0.39175156\n",
      "   0.27757353  0.25061342  0.20551437  0.07667654  0.13549982 -0.10116501]]\n"
     ]
    },
    {
     "name": "stderr",
     "output_type": "stream",
     "text": [
      "/home/ubuntu/neuroevo/ga_model.py:45: UserWarning: nn.init.kaiming_normal is now deprecated in favor of nn.init.kaiming_normal_.\n",
      "  nn.init.kaiming_normal(tensor)\n"
     ]
    }
   ],
   "source": [
    "m = Model(random_state())\n",
    "print('first try')\n",
    "print(to_np(m(Variable(torch.Tensor([states])))))\n",
    "print('didn\\'t change anything, should be the same')\n",
    "print(to_np(m(Variable(torch.Tensor([states])))))\n",
    "m.evolve(0.005, random_state())\n",
    "print('after evolution, should be different but only slightly')\n",
    "print(to_np(m(Variable(torch.Tensor([states])))))\n",
    "\n",
    "m2 = uncompress_model(m.compress())\n",
    "print('copied model, should be the same')\n",
    "print(to_np(m2(Variable(torch.Tensor([states])))))\n"
   ]
  },
  {
   "cell_type": "markdown",
   "metadata": {},
   "source": [
    "Ok great, it compiles."
   ]
  },
  {
   "cell_type": "markdown",
   "metadata": {},
   "source": [
    "# GA"
   ]
  },
  {
   "cell_type": "code",
   "execution_count": 6,
   "metadata": {},
   "outputs": [],
   "source": [
    "REDIS_HOST = '172.31.2.229'\n",
    "TIMEOUT = 3000  # orig value is 600\n",
    "TTL = TIMEOUT + 50\n",
    "\n",
    "class FakeJob:\n",
    "    def __init__(self, j):\n",
    "        self.result = j.result\n",
    "\n",
    "class GA:\n",
    "    def __init__(self, population, compressed_models=None, queue_name='default'):\n",
    "        self.population = population\n",
    "        self.models = [CompressedModel() for _ in range(population)] if compressed_models is None else compressed_models\n",
    "        \n",
    "        self.redis = Redis(REDIS_HOST)\n",
    "        self.queue = Queue(connection=self.redis, name=queue_name)\n",
    "        for j in self.queue.jobs:\n",
    "            j.cancel()\n",
    "\n",
    "    # Note: the paper says \"20k frames\", but there are 4 frames per network\n",
    "    # evaluation, so we cap at 5k evaluations\n",
    "    def get_best_models(self, env, max_eval=5000, max_noop=30):  # max_eval=5000\n",
    "        jobs = []\n",
    "        for m in self.models:\n",
    "            jobs.append(self.queue.enqueue(evaluate_model, env, m, max_eval=max_eval, max_noop=max_noop, ttl=TTL, job_timeout=TIMEOUT))\n",
    "        last_enqueue_time = time.time()\n",
    "        while True:\n",
    "            for i in range(len(jobs)):\n",
    "                if jobs[i].result is not None and not isinstance(jobs[i], FakeJob):\n",
    "                    if random.random() < 0.001:\n",
    "                        print(jobs[i].result)\n",
    "                    jobs[i] = FakeJob(jobs[i])\n",
    "                    \n",
    "            def convert_result(j):\n",
    "                if j.result is not None:\n",
    "                    if j.result[0] == 0.0 and j.result[1] == max_eval * 4 and 'Breakout' in env:\n",
    "                        return -1.0\n",
    "                    return j.result[0]\n",
    "                return None\n",
    "            scores = [convert_result(j) for j in jobs]\n",
    "            if None not in scores:\n",
    "                break\n",
    "            if time.time() - last_enqueue_time > TIMEOUT:\n",
    "                print(f'Reenqueuing unfinished jobs ({sum(x is None for x in scores)}).')\n",
    "                for i in range(len(jobs)):\n",
    "                    if jobs[i].result is None:\n",
    "                        jobs[i].cancel()\n",
    "                        jobs[i] = self.queue.enqueue(\n",
    "                            evaluate_model, env, self.models[i], max_eval=max_eval, max_noop=max_noop, ttl=TTL, job_timeout=TIMEOUT)\n",
    "                last_enqueue_time = time.time()\n",
    "            time.sleep(1)\n",
    "        used_frames = sum(j.result[1] for j in jobs)\n",
    "        scored_models = list(zip(self.models, scores))\n",
    "        scored_models.sort(key=lambda x: x[1], reverse=True)\n",
    "        return scored_models, used_frames\n",
    "\n",
    "    def evolve_iter(self, env, sigma=0.005, truncation=10, max_eval=5000, max_noop=30):\n",
    "        scored_models, used_frames = self.get_best_models(env, max_eval=max_eval, max_noop=max_noop)\n",
    "        scores = [s for _, s in scored_models]\n",
    "        median_score = np.median(scores)\n",
    "        mean_score = np.mean(scores)\n",
    "        max_score = scored_models[0][1]\n",
    "        scored_models = scored_models[:truncation]\n",
    "        \n",
    "        # Elitism\n",
    "        self.models = [scored_models[0][0]]\n",
    "        for _ in range(self.population):\n",
    "            self.models.append(copy.deepcopy(random.choice(scored_models)[0]))\n",
    "            self.models[-1].evolve(sigma)\n",
    "            \n",
    "        return median_score, mean_score, max_score, used_frames\n"
   ]
  },
  {
   "cell_type": "code",
   "execution_count": 7,
   "metadata": {},
   "outputs": [],
   "source": [
    "def make_video(env, model, max_eval=2000, max_noop=30):  # max_eval=200000 orig value.\n",
    "    env = gym.make(env)\n",
    "    model = uncompress_model(model)\n",
    "    noops = random.randint(0, max_noop)\n",
    "    cur_states = [reset(env)] * 4\n",
    "    total_reward = 0\n",
    "    frames = [env.render(mode='rgb_array')]\n",
    "    for _ in range(noops):\n",
    "        cur_states.pop(0)\n",
    "        new_state, reward, is_done, _ = step(env, 0)\n",
    "        frames.append(env.render(mode='rgb_array'))\n",
    "        total_reward += reward\n",
    "        if is_done:\n",
    "            return total_reward\n",
    "        cur_states.append(new_state)\n",
    "\n",
    "    print('done noops in make_video')\n",
    "    model.eval()\n",
    "    for _ in tqdm(range(max_eval)):\n",
    "        values = model(Variable(torch.Tensor([cur_states])))[0]\n",
    "        action = np.argmax(values.data.numpy()[:env.action_space.n])\n",
    "        new_state, reward, is_done, _ = step(env, action)\n",
    "        frames.append(env.render(mode='rgb_array'))\n",
    "        total_reward += reward\n",
    "        if is_done:\n",
    "            break\n",
    "        cur_states.pop(0)\n",
    "        cur_states.append(new_state)\n",
    "\n",
    "    print(\"done make_video\")\n",
    "    return total_reward, frames"
   ]
  },
  {
   "cell_type": "code",
   "execution_count": 8,
   "metadata": {},
   "outputs": [],
   "source": [
    "def run_env(env, do_run=True, render_vids=True):\n",
    "    if do_run:\n",
    "        ga = GA(5000)  # 5000\n",
    "\n",
    "        total_frames = 0\n",
    "        all_results = [(0.0, 0.0, 0.0, 0, time.time())]\n",
    "        while total_frames < 1_000_000_000: # 100_000_000 to run faster...\n",
    "            print(f'total_frames={total_frames}')\n",
    "            if 'Breakout' in env.spec.id and total_frames < 10_000_000:\n",
    "                med, avg, M, frames = ga.evolve_iter(env.spec.id, max_eval=400)\n",
    "            else:\n",
    "                med, avg, M, frames = ga.evolve_iter(env.spec.id)\n",
    "            total_frames += frames\n",
    "            all_results.append((med, avg, M, frames, time.time()))\n",
    "            print(f'Done with generation!\\nMedian: {med}, average: {avg}, max: {M}, frames: {total_frames:,}')\n",
    "        print('getting best_models')\n",
    "        best_models = ga.get_best_models(env.spec.id)[0]\n",
    "        print('DONE getting best_models')\n",
    "        pickle.dump(all_results, open(f'{env.spec.id}_process.pickle', 'wb'))\n",
    "        pickle.dump(best_models, open(f'{env.spec.id}_best.pickle', 'wb'))\n",
    "        \n",
    "    \n",
    "    \n",
    "    best_models = pickle.load(open(f'{env.spec.id}_best.pickle', 'rb'))\n",
    "    print('got best models')\n",
    "    process = pickle.load(open(f'{env.spec.id}_process.pickle', 'rb'))\n",
    "    print('got _process')\n",
    "    \n",
    "    if render_vids:\n",
    "        videos = [make_video(env.spec.id, best_models[0][0]) for _ in range(3)]  # orig 30 videos\n",
    "        print('got videos array')\n",
    "        pickle.dump(videos, open(f'{env.spec.id}_videos.pickle', 'wb'))\n",
    "        print('dumped to _videos.pickle')\n",
    "    print('done if render_vids')\n",
    "    videos = pickle.load(open(f'{env.spec.id}_videos.pickle', 'rb'))\n",
    "    print('got _videos.pickle')\n",
    "    \n",
    "    def convert_vid(video):\n",
    "        res = []\n",
    "        for v in video:\n",
    "            img = PIL.Image.fromarray(v)\n",
    "            img = img.resize((320, 240))\n",
    "            res.append(np.array(img))\n",
    "        return res\n",
    "    \n",
    "    videos = [(s, convert_vid(v)) for s, v in videos]\n",
    "    videos.sort(key=lambda x:x[0])\n",
    "    best_score, best_vid = videos[-1]\n",
    "    worst_score, worst_vid = videos[0]\n",
    "    median_score, median_vid = videos[len(videos) // 2]\n",
    "    print(f'Best score: {best_score}')\n",
    "    gif_file = f'{env.spec.id}_best.gif'\n",
    "    imageio.mimsave(gif_file, best_vid + [best_vid[-1]] * 10, fps=20)\n",
    "    display(HTML(f'<img src=\"{gif_file}\">'))\n",
    "\n",
    "    print(f'Worst score: {worst_score}')\n",
    "    gif_file = f'{env.spec.id}_worst.gif'\n",
    "    imageio.mimsave(gif_file, worst_vid + [worst_vid[-1]] * 10, fps=20)\n",
    "    display(HTML(f'<img src=\"{gif_file}\">'))\n",
    "\n",
    "    print(f'Median score: {median_score}')\n",
    "    gif_file = f'{env.spec.id}_median.gif'\n",
    "    imageio.mimsave(gif_file, median_vid + [median_vid[-1]] * 10, fps=20)\n",
    "    display(HTML(f'<img src=\"{gif_file}\">'))\n",
    "\n",
    "    for idx, name in enumerate(['Median Score', 'Average Score', 'Max Score', 'Frames Per Run', 'Total Time']):\n",
    "        if name == 'Frames':\n",
    "            div = 5000\n",
    "        else:\n",
    "            div = 1\n",
    "        sb.set_style(\"darkgrid\")\n",
    "        plt.plot(list(range(1, len(process))), [(p[idx] - process[0][idx]) / div for p in process[1:]])\n",
    "        plt.xlabel('Generation')\n",
    "        plt.ylabel(name)\n",
    "        plt.savefig(f'{env.spec.id}_{name}.png')\n",
    "        plt.show()\n"
   ]
  },
  {
   "cell_type": "markdown",
   "metadata": {},
   "source": [
    "## Let's look at the results!\n",
    "\n",
    "Finally, it's one or two hours later, depending on how many machines you chose to use, and we have results!\n",
    "\n",
    "So how do we evaluate the performance of our agents? Well, Uber has a few things to say about that:\n",
    "> Comparing our results with those from other algorithms fairly is extremely difficult, as such comparisons are inherently apples and oranges in many different ways. One important consideration is whether agents are evaluated on random starts (a random number of no-op actions), which is the regime they are trained on, or starts randomly sampled from human play, which tests for generalization (Nair et al., 2015). **Because we do not have a database of human starts to sample from**, our agents are evaluated with random starts. Where possible, we compare our results to those for other algorithms for which such random start results are available. That is true for DQN and ES, but not true for A3C, where we had to include results on human starts.\n",
    "\n",
    "The emphasis on lacking a database of human starts is mine: I think this is too bad, and indeed there does not seem to be such a database and I think it would be great to build one.\n",
    "\n",
    "Regardless, it sounds like the way we should evaluate our agent is simply using a random number of no-op operations before starting them, which is how we did training in the first place. The number of no-ops is not specified here but it is given as between 0 and 30 elsewhere, so that's what we'll do. Because there is this randomness aspect (not to mention the potential for random number generation within the individual Atari games), I decided to run the game 30 times and to display the best, worst, and median result. Here goes, for Frostbite:"
   ]
  },
  {
   "cell_type": "code",
   "execution_count": null,
   "metadata": {
    "scrolled": false
   },
   "outputs": [
    {
     "name": "stdout",
     "output_type": "stream",
     "text": [
      "<TimeLimit<AtariEnv<FrostbiteDeterministic-v4>>>\n",
      "FrostbiteDeterministic-v4\n",
      "total_frames=0\n",
      "(80.0, 2704)\n",
      "(30.0, 3044)\n",
      "(0.0, 1064)\n",
      "(20.0, 1144)\n",
      "(0.0, 20000)\n",
      "Done with generation!\n",
      "Median: 0.0, average: 39.138, max: 1000.0, frames: 39,709,600\n",
      "total_frames=39709600\n",
      "(240.0, 4384)\n",
      "(200.0, 1888)\n",
      "(140.0, 1644)\n",
      "(160.0, 1704)\n",
      "(190.0, 1976)\n",
      "(120.0, 1356)\n",
      "Done with generation!\n",
      "Median: 140.0, average: 160.01599680063987, max: 2630.0, frames: 52,165,512\n",
      "total_frames=52165512\n",
      "(90.0, 3356)\n",
      "(200.0, 2124)\n",
      "(70.0, 1844)\n",
      "(200.0, 1984)\n",
      "(40.0, 1136)\n",
      "(160.0, 1592)\n",
      "(200.0, 1660)\n",
      "(50.0, 7780)\n",
      "Done with generation!\n",
      "Median: 130.0, average: 184.47910417916415, max: 2940.0, frames: 64,317,308\n",
      "total_frames=64317308\n",
      "(90.0, 1436)\n",
      "(170.0, 1984)\n",
      "(170.0, 1712)\n",
      "Done with generation!\n",
      "Median: 140.0, average: 197.34453109378126, max: 3330.0, frames: 76,148,192\n",
      "total_frames=76148192\n",
      "(160.0, 1792)\n",
      "(170.0, 2660)\n",
      "(60.0, 1340)\n",
      "(160.0, 2056)\n",
      "(210.0, 1872)\n",
      "(220.0, 1844)\n",
      "Done with generation!\n",
      "Median: 120.0, average: 187.63447310537893, max: 2680.0, frames: 88,425,612\n",
      "total_frames=88425612\n",
      "(120.0, 2384)\n",
      "(1000.0, 3416)\n",
      "(140.0, 1680)\n",
      "(160.0, 1620)\n",
      "Done with generation!\n",
      "Median: 150.0, average: 248.03239352129575, max: 3090.0, frames: 100,212,644\n",
      "total_frames=100212644\n",
      "(90.0, 1292)\n",
      "(210.0, 1820)\n",
      "(120.0, 2264)\n",
      "(200.0, 2108)\n",
      "(90.0, 2304)\n",
      "Done with generation!\n",
      "Median: 150.0, average: 255.64087182563486, max: 3180.0, frames: 112,597,112\n",
      "total_frames=112597112\n",
      "(780.0, 2872)\n",
      "(1030.0, 3892)\n",
      "(120.0, 2588)\n",
      "(200.0, 1848)\n",
      "(1490.0, 2720)\n",
      "(160.0, 1640)\n",
      "(200.0, 1844)\n",
      "Done with generation!\n",
      "Median: 160.0, average: 324.127174565087, max: 3400.0, frames: 126,175,420\n",
      "total_frames=126175420\n",
      "(0.0, 960)\n",
      "(140.0, 1460)\n",
      "(160.0, 1680)\n",
      "(130.0, 1692)\n",
      "(870.0, 3020)\n",
      "Done with generation!\n",
      "Median: 160.0, average: 330.0979804039192, max: 4510.0, frames: 139,362,316\n",
      "total_frames=139362316\n",
      "(2450.0, 4400)\n",
      "Done with generation!\n",
      "Median: 160.0, average: 313.99720055988803, max: 3290.0, frames: 151,986,584\n",
      "total_frames=151986584\n",
      "(170.0, 1636)\n",
      "(180.0, 1544)\n",
      "(90.0, 1736)\n",
      "(110.0, 1496)\n",
      "(60.0, 1180)\n",
      "(90.0, 4240)\n",
      "(220.0, 2672)\n",
      "(210.0, 2360)\n",
      "Done with generation!\n",
      "Median: 160.0, average: 326.6066786642671, max: 3250.0, frames: 165,611,368\n",
      "total_frames=165611368\n",
      "(1460.0, 3860)\n",
      "(150.0, 1596)\n",
      "(780.0, 4032)\n",
      "(90.0, 3136)\n",
      "(170.0, 2104)\n",
      "(150.0, 2468)\n",
      "Done with generation!\n",
      "Median: 160.0, average: 336.9126174765047, max: 3450.0, frames: 179,305,656\n",
      "total_frames=179305656\n",
      "(910.0, 3740)\n"
     ]
    }
   ],
   "source": [
    "myenv = gym.make('FrostbiteDeterministic-v4')\n",
    "print(myenv)\n",
    "print(myenv.spec.id)\n",
    "# run_env(myenv, False, render_vids=True)\n",
    "run_env(myenv, True, render_vids=True)"
   ]
  },
  {
   "cell_type": "code",
   "execution_count": null,
   "metadata": {},
   "outputs": [],
   "source": [
    "print('hi')"
   ]
  },
  {
   "cell_type": "code",
   "execution_count": null,
   "metadata": {},
   "outputs": [],
   "source": [
    "print('bye')"
   ]
  },
  {
   "cell_type": "markdown",
   "metadata": {},
   "source": [
    "## Frostbite\n",
    "\n",
    "We can see that we get an agent that performs very well for Frostbite: 4,570 as its best score, which is close to Uber's 4,801, and which is roughly the state of the art right now as far as I know! Very exciting.\n",
    "\n",
    "Unfortunately, as we can see, the agent is not at all robust even to random starts! The median score is only 170 and the worst score is 160! It isn't clear to me why Uber did not report this: is it an issue in my implementation? Something that happened to them as well but that they failed to report? An issue in their implementation? (if they implemented random starts badly for instance, this might not be visible). \n",
    "\n",
    "This seems to explain the extremely large discrepancy between the median score and the best score as I go through generations (Uber's graph of \"median\" scores are not using this definition, which is why I can't really compare them to what I found: in Uber's definition it is the median of the best agent across multiple runs): it is not that agents are very sensitive to small changes in their weights, it is that they are very sensitive to small changes in their starting point!\n",
    "\n",
    "I am really interested in fixing this issue in the future. In my mind, there are two things that could help fix this:\n",
    "* Evaluating each neural net not on a single run but on several, each of which start with a different number of no-ops.\n",
    "* Revisiting epsilon greedy for genetic algorithms: this seems crazy because it doesn't seem like GA \"need\" an exploration strategy, which is why Uber didn't implement one, but it could be that exploration doesn't just help reinforcement learning agents only with finding new high-reward states, but also with becoming robust to finding themselves in unforseen situations. Right now it seems like the GA networks are overfitting to a very specific sequence of actions from the game."
   ]
  },
  {
   "cell_type": "code",
   "execution_count": null,
   "metadata": {
    "scrolled": false
   },
   "outputs": [],
   "source": [
    "run_env(gym.make('BreakoutDeterministic-v4'), True, render_vids=True)"
   ]
  },
  {
   "cell_type": "markdown",
   "metadata": {},
   "source": [
    "### Breakout\n",
    "\n",
    "Oh boy... GAs do **terribly** on Breakout. Why?\n",
    "\n",
    "I can see a few reasons:\n",
    "* You need to run a specific action or breakout won't start (specifically, breakout has 4 actions: do nothing, start the game, move left and move right).\n",
    " * This is not a problem when following a randomized exploration strategy such as epsilon-greedy, because the action will get chosen at some point or other, but without any exploration at all, it means that a large proportion of agents will simply do nothing forever.\n",
    " * To prevent this, I even made sure to reduce the maximum length of a game in the first few generations and to penalize agents that had done nothing at all the whole time. Obviously it didn't work that well, however.\n",
    "* Very few of the pixels change in breakout, so agents keep performing the same action.\n",
    " * In Frostbite, almost 50% of the pixels are guaranteed to change even if the agent does nothing. In Breakout, only a tiny ball, the paddle, and maybe a brick or two will change, and only if the agent actually does something. For a randomly initialized neural network, this is likely not enough for it to decide to perform a different action.\n",
    " \n",
    "Again, I think there are ways to fix this issue, including again including epsilon-greedy exploration in training. This warrants further exploration."
   ]
  },
  {
   "cell_type": "code",
   "execution_count": null,
   "metadata": {
    "scrolled": false
   },
   "outputs": [],
   "source": [
    "run_env(gym.make('SpaceInvadersDeterministic-v4'), True, render_vids=True)"
   ]
  },
  {
   "cell_type": "markdown",
   "metadata": {},
   "source": [
    "### Space Invaders\n",
    "\n",
    "The agent does relatively well on space invaders, similar to the agent we trained in https://becominghuman.ai/beat-atari-with-deep-reinforcement-learning-part-2-dqn-improvements-d3563f665a2c, which is far from state of the art, but still pretty decent. Besides, it actually performs the same regardless of the initial random no-ops.\n",
    "\n",
    "However, I am a bit concered about its strategy which consists, at least at first, in simply staying far to the left and trying to shoot the mothership: this looks more like a weird local optimum than an actual skill that the agent has obtained. Again I am curious what would make it learn something that looks more like real skill at the game and not a lazy strategy."
   ]
  },
  {
   "cell_type": "markdown",
   "metadata": {},
   "source": [
    "## Conclusion\n",
    "\n",
    "I am excited about the results in Uber's paper. The fact that it does so well at Frostbite is quite amazing, and it is unclear to me if this means that traditional RL algorithms are particularly weak or that GA is surprisingly strong. I think, however, that there seem to be significant issues with GA that Uber doesn't point out, partly because they weren't able to evaluate their algorithms using a human-start database (which I think would have shown the brittleness of the various agents), and it would be interesting to try to fix these. I for one plan to try including epsilon-greedy exploration in the future, which I think will help with the robustness of the agents, and as Uber points out, there is a ton of literature available on genetic algorithms, and they only tried the most basic possible ones. Who knows where more advanced GAs will take us."
   ]
  }
 ],
 "metadata": {
  "hide_input": false,
  "kernelspec": {
   "display_name": "Python 3",
   "language": "python",
   "name": "python3"
  },
  "language_info": {
   "codemirror_mode": {
    "name": "ipython",
    "version": 3
   },
   "file_extension": ".py",
   "mimetype": "text/x-python",
   "name": "python",
   "nbconvert_exporter": "python",
   "pygments_lexer": "ipython3",
   "version": "3.8.3"
  }
 },
 "nbformat": 4,
 "nbformat_minor": 2
}
